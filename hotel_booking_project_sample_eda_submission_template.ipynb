{
  "nbformat": 4,
  "nbformat_minor": 0,
  "metadata": {
    "colab": {
      "private_outputs": true,
      "provenance": [],
      "collapsed_sections": [
        "vncDsAP0Gaoa",
        "FJNUwmbgGyua",
        "yQaldy8SH6Dl",
        "PH-0ReGfmX4f",
        "mDgbUHAGgjLW",
        "O_i_v8NEhb9l",
        "HhfV-JJviCcP",
        "Y3lxredqlCYt",
        "3RnN4peoiCZX",
        "x71ZqKXriCWQ",
        "7hBIi_osiCS2",
        "JlHwYmJAmNHm",
        "35m5QtbWiB9F",
        "PoPl-ycgm1ru",
        "H0kj-8xxnORC",
        "nA9Y7ga8ng1Z",
        "PBTbrJXOngz2",
        "u3PMJOP6ngxN",
        "dauF4eBmngu3",
        "bKJF3rekwFvQ",
        "GF8Ens_Soomf",
        "KSlN3yHqYklG",
        "t6dVpIINYklI",
        "ijmpgYnKYklI",
        "-JiQyfWJYklI",
        "EM7whBJCYoAo",
        "fge-S5ZAYoAp",
        "85gYPyotYoAp",
        "RoGjAbkUYoAp",
        "4Of9eVA-YrdM",
        "iky9q4vBYrdO",
        "F6T5p64dYrdO",
        "y-Ehk30pYrdP",
        "bamQiAODYuh1",
        "QHF8YVU7Yuh3",
        "GwzvFGzlYuh3",
        "qYpmQ266Yuh3",
        "OH-pJp9IphqM",
        "bbFf2-_FphqN",
        "_ouA3fa0phqN",
        "Seke61FWphqN",
        "PIIx-8_IphqN",
        "t27r6nlMphqO",
        "r2jJGEOYphqO",
        "b0JNsNcRphqO",
        "BZR9WyysphqO",
        "jj7wYXLtphqO",
        "eZrbJ2SmphqO",
        "rFu4xreNphqO",
        "YJ55k-q6phqO",
        "gCFgpxoyphqP",
        "OVtJsKN_phqQ",
        "lssrdh5qphqQ",
        "U2RJ9gkRphqQ",
        "1M8mcRywphqQ",
        "tgIPom80phqQ",
        "JMzcOPDDphqR",
        "x-EpHcCOp1ci",
        "X_VqEhTip1ck",
        "8zGJKyg5p1ck",
        "PVzmfK_Ep1ck",
        "n3dbpmDWp1ck",
        "ylSl6qgtp1ck",
        "ZWILFDl5p1ck",
        "M7G43BXep1ck",
        "Ag9LCva-p1cl",
        "E6MkPsBcp1cl",
        "2cELzS2fp1cl",
        "3MPXvC8up1cl",
        "NC_X3p0fY2L0",
        "JcMwzZxoAimU",
        "8G2x9gOozGDZ",
        "gCX9965dhzqZ",
        "gIfDvo9L0UH2"
      ]
    },
    "kernelspec": {
      "name": "python3",
      "display_name": "Python 3"
    },
    "language_info": {
      "name": "python"
    }
  },
  "cells": [
    {
      "cell_type": "markdown",
      "source": [
        "# **Project Name**    -Hotel Booking Analysis\n",
        "\n"
      ],
      "metadata": {
        "id": "vncDsAP0Gaoa"
      }
    },
    {
      "cell_type": "markdown",
      "source": [
        "##### **Project Type**    - Classification\n",
        "\n",
        "---\n",
        "\n",
        "\n",
        "\n",
        "---\n",
        "\n",
        "\n",
        "##### **Contribution**    - Individual\n"
      ],
      "metadata": {
        "id": "beRrZCGUAJYm"
      }
    },
    {
      "cell_type": "markdown",
      "source": [
        "# **Project Summary -**"
      ],
      "metadata": {
        "id": "FJNUwmbgGyua"
      }
    },
    {
      "cell_type": "markdown",
      "source": [
        "The Hotel Booking Analysis project provides valuable insights into the factors influencing hotel bookings and customer behavior. By leveraging these insights, hotel managers can make informed decisions to optimize their operations, enhance customer experiences, and improve overall profitability. The findings underscore the importance of understanding booking trends, customer segmentation, and cancellation behaviors in the highly competitive hospitality industry.\n",
        "\n",
        "\n",
        "\n",
        "\n",
        "\n",
        "\n",
        "\n"
      ],
      "metadata": {
        "id": "F6v_1wHtG2nS"
      }
    },
    {
      "cell_type": "markdown",
      "source": [
        "\n",
        "\n",
        "\n",
        "\n"
      ],
      "metadata": {
        "id": "w6K7xa23Elo4"
      }
    },
    {
      "cell_type": "markdown",
      "source": [
        "\n"
      ],
      "metadata": {
        "id": "h1o69JH3Eqqn"
      }
    },
    {
      "cell_type": "markdown",
      "source": [
        "# **Problem Statement**\n",
        "\n",
        "\n"
      ],
      "metadata": {
        "id": "yQaldy8SH6Dl"
      }
    },
    {
      "cell_type": "markdown",
      "source": [
        "Key Features in the Dataset:\n",
        "Hotel Type: Type of hotel (e.g., City Hotel or Resort Hotel)\n",
        "Booking Time: When the booking was made\n",
        "Check-in/Check-out Dates: Arrival and departure dates\n",
        "Length of Stay: Duration of stay in nights\n",
        "Booking Channels: Source of booking (e.g., Online Travel Agent, Direct)\n",
        "Customer Demographics: Information about the customer (e.g., country, age, etc.)\n",
        "Booking Status: Whether the booking was canceled or confirmed\n",
        "Special Requests: Any special requests made by the customer\n",
        "Key Questions to Address:\n",
        "Booking Trends:\n",
        "\n",
        "What are the peak booking periods (months or seasons)?\n",
        "Which types of rooms are most frequently booked?\n",
        "Customer Segmentation:\n",
        "\n",
        "What is the demographic profile of the customers (age, country, etc.)?\n",
        "How do booking behaviors vary across different customer segments?\n",
        "Cancellation Analysis:\n",
        "\n",
        "What is the cancellation rate?\n",
        "What factors contribute to booking cancellations?\n",
        "Revenue Analysis:\n",
        "\n",
        "What is the average revenue per booking?\n",
        "How does revenue vary with different types of bookings (e.g., length of stay, room type)?\n",
        "Channel Performance:\n",
        "\n",
        "Which booking channels are most popular?\n",
        "How do different channels compare in terms of booking volume and revenue?\n",
        "Special Requests and Preferences:\n",
        "\n",
        "What are the common special requests made by customers?\n",
        "How do special requests impact customer satisfaction and booking decisions?\n",
        "Analytical Approach:\n",
        "Data Cleaning and Preprocessing:\n",
        "\n",
        "Handle missing values and outliers.\n",
        "Ensure data consistency and accuracy.\n",
        "Descriptive Statistics:\n",
        "\n",
        "Summarize key attributes to understand the data distribution.\n",
        "Visualize trends and patterns using charts and graphs.\n",
        "Exploratory Data Analysis (EDA):\n",
        "\n",
        "Identify correlations and relationships between variables.\n",
        "Segment customers based on booking behavior and demographics.\n",
        "Predictive Modeling (optional):\n",
        "\n",
        "Build models to predict cancellations and revenue.\n",
        "Analyze the impact of different features on booking outcomes.\n",
        "Recommendation Generation:\n",
        "\n",
        "Based on the analysis, provide actionable insights for improving hotel performance.\n",
        "Suggest strategies to reduce cancellations, optimize pricing, and enhance customer experience.\n",
        "Expected Outcomes:\n",
        "Comprehensive insights into booking trends and customer behavior.\n",
        "Identification of key factors affecting bookings and cancellations.\n",
        "Actionable recommendations to improve the hotel's booking process and revenue management.\n",
        "Enhanced understanding of customer preferences and special requests.\n",
        "By completing this analysis, the hotel can make informed decisions to optimize its operations, enhance customer satisfaction, and increase profitability.\n",
        "\n"
      ],
      "metadata": {
        "id": "DpeJGUA3kjGy"
      }
    },
    {
      "cell_type": "markdown",
      "source": [
        "#### **Define Your Business Objective?**"
      ],
      "metadata": {
        "id": "PH-0ReGfmX4f"
      }
    },
    {
      "cell_type": "markdown",
      "source": [
        "Specific Goals:\n",
        "Increase Occupancy Rates:\n",
        "\n",
        "Identify patterns and trends in booking data to understand peak and off-peak periods.\n",
        "Analyze customer demographics to tailor marketing efforts and attract more bookings during off-peak times.\n",
        "Develop dynamic pricing strategies based on booking trends and competitor analysis.\n",
        "Enhance Customer Experience:\n",
        "\n",
        "Analyze customer feedback and booking preferences to improve services and amenities.\n",
        "Personalize marketing and communication strategies to cater to repeat customers and attract new ones.\n",
        "Optimize Marketing Efforts:\n",
        "\n",
        "Evaluate the effectiveness of different marketing channels and campaigns.\n",
        "Identify the most profitable customer segments and focus marketing efforts on them.\n",
        "Increase Direct Bookings:\n",
        "\n",
        "Reduce dependency on third-party booking platforms by enhancing the hotel's direct booking platform.\n",
        "Implement loyalty programs and special offers for direct bookings.\n",
        "Forecasting and Planning:\n",
        "\n",
        "Develop accurate forecasts for future demand to optimize staffing, inventory, and resource allocation.\n",
        "Use predictive analytics to anticipate trends and adjust strategies accordingly."
      ],
      "metadata": {
        "id": "PhDvGCAqmjP1"
      }
    },
    {
      "cell_type": "markdown",
      "source": [
        "# **General Guidelines** : -  "
      ],
      "metadata": {
        "id": "mDgbUHAGgjLW"
      }
    },
    {
      "cell_type": "markdown",
      "source": [
        "1.   Well-structured, formatted, and commented code is required.\n",
        "2.   Exception Handling, Production Grade Code & Deployment Ready Code will be a plus. Those students will be awarded some additional credits.\n",
        "     \n",
        "     The additional credits will have advantages over other students during Star Student selection.\n",
        "       \n",
        "             [ Note: - Deployment Ready Code is defined as, the whole .ipynb notebook should be executable in one go\n",
        "                       without a single error logged. ]\n",
        "\n",
        "3.   Each and every logic should have proper comments.\n",
        "4. You may add as many number of charts you want. Make Sure for each and every chart the following format should be answered.\n",
        "        \n",
        "\n",
        "```\n",
        "# Chart visualization code\n",
        "```\n",
        "            \n",
        "\n",
        "*   Why did you pick the specific chart?\n",
        "*   What is/are the insight(s) found from the chart?\n",
        "* Will the gained insights help creating a positive business impact?\n",
        "Are there any insights that lead to negative growth? Justify with specific reason.\n",
        "\n",
        "5. You have to create at least 20 logical & meaningful charts having important insights.\n",
        "\n",
        "\n",
        "[ Hints : - Do the Vizualization in  a structured way while following \"UBM\" Rule.\n",
        "\n",
        "U - Univariate Analysis,\n",
        "\n",
        "B - Bivariate Analysis (Numerical - Categorical, Numerical - Numerical, Categorical - Categorical)\n",
        "\n",
        "M - Multivariate Analysis\n",
        " ]\n",
        "\n",
        "\n",
        "\n"
      ],
      "metadata": {
        "id": "ZrxVaUj-hHfC"
      }
    },
    {
      "cell_type": "markdown",
      "source": [
        "# ***Let's Begin !***"
      ],
      "metadata": {
        "id": "O_i_v8NEhb9l"
      }
    },
    {
      "cell_type": "markdown",
      "source": [
        "## ***1. Know Your Data***"
      ],
      "metadata": {
        "id": "HhfV-JJviCcP"
      }
    },
    {
      "cell_type": "markdown",
      "source": [
        "### Import Libraries"
      ],
      "metadata": {
        "id": "Y3lxredqlCYt"
      }
    },
    {
      "cell_type": "code",
      "source": [
        "# Import Libraries\n",
        "import numpy as np\n",
        "import pandas as pd\n",
        "from numpy import math\n",
        "from numpy import loadtxt\n",
        "import seaborn as sns\n",
        "import matplotlib.pyplot as plt\n",
        "%matplotlib inline\n",
        "from matplotlib import rcParams\n",
        "!pip install pymysql\n",
        "import pymysql\n",
        "from sqlalchemy import create_engine\n",
        "from sqlalchemy.pool import NullPool\n",
        "\n",
        "import numpy as np\n",
        "import seaborn as sns\n",
        "from scipy.stats import *\n",
        "import math\n",
        "\n",
        "from statsmodels.stats.outliers_influence import variance_inflation_factor\n",
        "from sklearn.preprocessing import StandardScaler\n",
        "from sklearn.model_selection import train_test_split\n",
        "from imblearn.over_sampling import SMOTE\n",
        "from sklearn.linear_model import LogisticRegression\n",
        "from sklearn.ensemble import RandomForestClassifier\n",
        "from sklearn.metrics import accuracy_score, confusion_matrix\n",
        "from sklearn import metrics\n",
        "from sklearn.metrics import roc_curve\n",
        "from sklearn.model_selection import GridSearchCV\n",
        "from sklearn.model_selection import RepeatedStratifiedKFold\n",
        "from xgboost import XGBClassifier\n",
        "from xgboost import XGBRFClassifier\n",
        "from sklearn.tree import export_graphviz\n",
        "\n"
      ],
      "metadata": {
        "id": "M8Vqi-pPk-HR"
      },
      "execution_count": null,
      "outputs": []
    },
    {
      "cell_type": "markdown",
      "source": [
        "### Dataset Loading"
      ],
      "metadata": {
        "id": "3RnN4peoiCZX"
      }
    },
    {
      "cell_type": "code",
      "source": [
        "from google.colab import drive\n",
        "drive.mount('/content/drive')\n"
      ],
      "metadata": {
        "id": "qCaeCc10G5Qi"
      },
      "execution_count": null,
      "outputs": []
    },
    {
      "cell_type": "code",
      "source": [
        "file_path='/content/drive/MyDrive/m2_projects/Hotel Bookings.csv'"
      ],
      "metadata": {
        "id": "rWD4kQEIHSqs"
      },
      "execution_count": null,
      "outputs": []
    },
    {
      "cell_type": "code",
      "source": [
        "# Load Dataset\n",
        "hmdb_df=pd.read_csv(file_path)"
      ],
      "metadata": {
        "id": "cisp7jZgG-jo"
      },
      "execution_count": null,
      "outputs": []
    },
    {
      "cell_type": "markdown",
      "source": [
        "### Dataset First View"
      ],
      "metadata": {
        "id": "x71ZqKXriCWQ"
      }
    },
    {
      "cell_type": "code",
      "source": [
        "# Dataset First Look\n",
        "hmdb_df"
      ],
      "metadata": {
        "id": "LWNFOSvLl09H"
      },
      "execution_count": null,
      "outputs": []
    },
    {
      "cell_type": "markdown",
      "source": [
        "### Dataset Rows & Columns count"
      ],
      "metadata": {
        "id": "7hBIi_osiCS2"
      }
    },
    {
      "cell_type": "code",
      "source": [
        "# Dataset Rows & Columns count\n",
        "\n",
        "hmdb_df.shape"
      ],
      "metadata": {
        "id": "Kllu7SJgmLij"
      },
      "execution_count": null,
      "outputs": []
    },
    {
      "cell_type": "code",
      "source": [
        "columns = hmdb_df.count(axis=1)\n",
        "print(columns)"
      ],
      "metadata": {
        "id": "VlYCwpfQKxr3"
      },
      "execution_count": null,
      "outputs": []
    },
    {
      "cell_type": "code",
      "source": [
        "rows = hmdb_df.count(axis=0)\n",
        "print(rows)"
      ],
      "metadata": {
        "id": "jzpH5p_4Kzvb"
      },
      "execution_count": null,
      "outputs": []
    },
    {
      "cell_type": "markdown",
      "source": [
        "### Dataset Information"
      ],
      "metadata": {
        "id": "JlHwYmJAmNHm"
      }
    },
    {
      "cell_type": "code",
      "source": [
        "# Dataset Info\n",
        "hmdb_df.info()"
      ],
      "metadata": {
        "id": "e9hRXRi6meOf"
      },
      "execution_count": null,
      "outputs": []
    },
    {
      "cell_type": "markdown",
      "source": [
        "#### Duplicate Values"
      ],
      "metadata": {
        "id": "35m5QtbWiB9F"
      }
    },
    {
      "cell_type": "code",
      "source": [
        "# Dataset Duplicate Value Count\n",
        "len(hmdb_df[hmdb_df.duplicated()])"
      ],
      "metadata": {
        "id": "1sLdpKYkmox0"
      },
      "execution_count": null,
      "outputs": []
    },
    {
      "cell_type": "markdown",
      "source": [
        "#### Missing Values/Null Values"
      ],
      "metadata": {
        "id": "PoPl-ycgm1ru"
      }
    },
    {
      "cell_type": "code",
      "source": [
        "# Missing Values/Null Values Count\n",
        "print(hmdb_df.isnull().sum().sum())"
      ],
      "metadata": {
        "id": "GgHWkxvamxVg"
      },
      "execution_count": null,
      "outputs": []
    },
    {
      "cell_type": "code",
      "source": [
        "# Visualizing the missing values\n",
        "print(hmdb_df.isnull().sum())"
      ],
      "metadata": {
        "id": "3q5wnI3om9sJ"
      },
      "execution_count": null,
      "outputs": []
    },
    {
      "cell_type": "markdown",
      "source": [
        "### What did you know about your dataset?"
      ],
      "metadata": {
        "id": "H0kj-8xxnORC"
      }
    },
    {
      "cell_type": "markdown",
      "source": [
        "The dataset given is a dataset from  Hotel Booking Analysis and we have to analysis the hotal and the insights behind it. At now I know about Import Libraries,\n",
        "Dataset Loading,\n",
        "Dataset First View,\n",
        "Dataset Rows & Columns count,\n",
        "Dataset Information,\n",
        "Duplicate Values,\n",
        "Missing Values/Null Values,\n",
        "\n",
        "\n",
        "\n",
        "\n",
        "The above dataset has 119390 rows × 32 columns. There are mising values 129425 and duplicate values 31994 in the dataset.\n"
      ],
      "metadata": {
        "id": "gfoNAAC-nUe_"
      }
    },
    {
      "cell_type": "markdown",
      "source": [
        "## ***2. Understanding Your Variables***"
      ],
      "metadata": {
        "id": "nA9Y7ga8ng1Z"
      }
    },
    {
      "cell_type": "code",
      "source": [
        "# Dataset Columns\n",
        "hmdb_df.columns"
      ],
      "metadata": {
        "id": "j7xfkqrt5Ag5"
      },
      "execution_count": null,
      "outputs": []
    },
    {
      "cell_type": "code",
      "source": [
        "# Dataset Describe\n",
        "hmdb_df.describe(include='all')"
      ],
      "metadata": {
        "id": "DnOaZdaE5Q5t",
        "collapsed": true
      },
      "execution_count": null,
      "outputs": []
    },
    {
      "cell_type": "markdown",
      "source": [
        "### Variables Description"
      ],
      "metadata": {
        "id": "PBTbrJXOngz2"
      }
    },
    {
      "cell_type": "markdown",
      "source": [
        "Answer Here"
      ],
      "metadata": {
        "id": "aJV4KIxSnxay"
      }
    },
    {
      "cell_type": "markdown",
      "source": [
        "### Check Unique Values for each variable."
      ],
      "metadata": {
        "id": "u3PMJOP6ngxN"
      }
    },
    {
      "cell_type": "code",
      "source": [
        "# Check Unique Values for each variable.\n",
        "unique_values = hmdb_df.apply(lambda x: x.unique())\n",
        "print(unique_values)\n"
      ],
      "metadata": {
        "id": "zms12Yq5n-jE"
      },
      "execution_count": null,
      "outputs": []
    },
    {
      "cell_type": "markdown",
      "source": [
        "## 3. ***Data Wrangling***"
      ],
      "metadata": {
        "id": "dauF4eBmngu3"
      }
    },
    {
      "cell_type": "markdown",
      "source": [
        "### Data Wrangling Code"
      ],
      "metadata": {
        "id": "bKJF3rekwFvQ"
      }
    },
    {
      "cell_type": "code",
      "source": [
        "# Write your code to make your dataset analysis ready.\n",
        "hmdb_df.info()\n",
        "hmdb_df.head()\n",
        "hmdb_df.describe()"
      ],
      "metadata": {
        "id": "wk-9a2fpoLcV"
      },
      "execution_count": null,
      "outputs": []
    },
    {
      "cell_type": "markdown",
      "source": [
        "## ***4. Data Vizualization, Storytelling & Experimenting with charts : Understand the relationships between variables***"
      ],
      "metadata": {
        "id": "GF8Ens_Soomf"
      }
    },
    {
      "cell_type": "markdown",
      "source": [
        "#### Chart - 1 histplot"
      ],
      "metadata": {
        "id": "4aC-8YufSB6V"
      }
    },
    {
      "cell_type": "code",
      "source": [
        "sns.histplot(data=hmdb_df, x=\"lead_time\", bins=10, kde = True, color  = 'Red',hue='customer_type')\n",
        "\n",
        "\n",
        "plt.title(\"Distribution of lead_time\")\n",
        "plt.xlabel(\"lead_time\")\n",
        "plt.ylabel(\"Frequency\")\n",
        "\n",
        "plt.show()"
      ],
      "metadata": {
        "id": "VEDjdAk1SfmV"
      },
      "execution_count": null,
      "outputs": []
    },
    {
      "cell_type": "markdown",
      "source": [
        "##### 1. Why did you pick the specific chart?"
      ],
      "metadata": {
        "id": "fPtSxoKs-gCl"
      }
    },
    {
      "cell_type": "markdown",
      "source": [
        "The specific chart was chosen to enable a comprehensive analysis of lead time distributions and their variations across different customer types, providing actionable insights to drive operational improvements and enhance customer experiences."
      ],
      "metadata": {
        "id": "HUXgsknd-t0n"
      }
    },
    {
      "cell_type": "markdown",
      "source": [
        "##### 2. What is/are the insight(s) found from the chart?"
      ],
      "metadata": {
        "id": "VaT_lbc-_Bpp"
      }
    },
    {
      "cell_type": "markdown",
      "source": [
        "The histogram provides insights into lead time distribution, comparative analysis across customer types, frequency patterns, and the presence of outliers, offering valuable information for process optimization, customer service improvements, and operational efficiency."
      ],
      "metadata": {
        "id": "ptepWOQT_Bky"
      }
    },
    {
      "cell_type": "markdown",
      "source": [
        "##### 3. Will the gained insights help creating a positive business impact?"
      ],
      "metadata": {
        "id": "gJgBp06s_NiD"
      }
    },
    {
      "cell_type": "markdown",
      "source": [
        "The insights derived from the lead time distribution visualization have the potential to positively impact the business by supporting more equitable service provision, enhancing customer satisfaction, and optimizing resource allocation based on the specific needs of different customer segments."
      ],
      "metadata": {
        "id": "jSYJ-Ivi_NTk"
      }
    },
    {
      "cell_type": "markdown",
      "source": [
        "#### Chart - 2   KDE plot\n"
      ],
      "metadata": {
        "id": "KSlN3yHqYklG"
      }
    },
    {
      "cell_type": "code",
      "source": [
        "sns.kdeplot(data=hmdb_df['lead_time'],fill =True, color = 'blue' )\n",
        "plt.title('Kernel Density Estimate (KDE) of lead_time')\n",
        "plt.xlabel('lead_time')\n",
        "plt.ylabel('Density')\n",
        "\n",
        "plt.show()"
      ],
      "metadata": {
        "id": "04nuh68fHIC4"
      },
      "execution_count": null,
      "outputs": []
    },
    {
      "cell_type": "markdown",
      "source": [
        "##### 1. Why did you pick the specific chart?"
      ],
      "metadata": {
        "id": "t6dVpIINYklI"
      }
    },
    {
      "cell_type": "markdown",
      "source": [
        "The specific chart being used here is a KDE (Kernel Density Estimation)\n",
        "\n",
        "\n",
        "\n",
        "This type of chart is effective in summarizing and comparing the distribution of lead times across different customer types, making it a suitable choice for visualizing this specific dataset.Answer Here."
      ],
      "metadata": {
        "id": "5aaW0BYyYklI"
      }
    },
    {
      "cell_type": "markdown",
      "source": [
        "##### 2. What is/are the insight(s) found from the chart?"
      ],
      "metadata": {
        "id": "ijmpgYnKYklI"
      }
    },
    {
      "cell_type": "markdown",
      "source": [
        "\n",
        " Here The provided code generates a kde plot that displays the distribution of lead times.\n",
        "Lead Time Distribution: The kde plot shows the distribution of lead times across the dataset..\n",
        "\n",
        "Frequency of Lead Times: The y-axis showcases the frequency of lead times within each bin, providing an understanding of how often certain lead time ranges occur in the data"
      ],
      "metadata": {
        "id": "PSx9atu2YklI"
      }
    },
    {
      "cell_type": "markdown",
      "source": [
        "##### 3. Will the gained insights help creating a positive business impact?\n",
        "Are there any insights that lead to negative growth? Justify with specific reason."
      ],
      "metadata": {
        "id": "-JiQyfWJYklI"
      }
    },
    {
      "cell_type": "markdown",
      "source": [
        "Gaining insights about lead time distribution and its correlation with customer types can empower businesses to make data-driven decisions, improve operational workflows, enhance customer satisfaction, and optimize resource allocation, ultimately leading to a positive business impact"
      ],
      "metadata": {
        "id": "BcBbebzrYklV"
      }
    },
    {
      "cell_type": "code",
      "source": [
        "hmdb_df.head(2)"
      ],
      "metadata": {
        "id": "9U7rjpODuw2_"
      },
      "execution_count": null,
      "outputs": []
    },
    {
      "cell_type": "markdown",
      "source": [
        "#### Chart - 3  Box plot"
      ],
      "metadata": {
        "id": "EM7whBJCYoAo"
      }
    },
    {
      "cell_type": "code",
      "source": [
        "sns.boxplot(x=\"lead_time\", data=hmdb_df)\n",
        "plt.title(\"lead_time Distribution\")\n",
        "plt.xlabel(\"Frequency\")\n",
        "plt.ylabel(\"lead_time\")\n",
        "plt.show()\n"
      ],
      "metadata": {
        "id": "t6GMdE67YoAp"
      },
      "execution_count": null,
      "outputs": []
    },
    {
      "cell_type": "markdown",
      "source": [
        "##### 1. Why did you pick the specific chart?"
      ],
      "metadata": {
        "id": "fge-S5ZAYoAp"
      }
    },
    {
      "cell_type": "markdown",
      "source": [
        "the boxplot was likely chosen to provide a clear and efficient visualization of lead time distribution, outlier identification, and the comparison of lead time distribution across different groups or categories."
      ],
      "metadata": {
        "id": "5dBItgRVYoAp"
      }
    },
    {
      "cell_type": "markdown",
      "source": [
        "##### 2. What is/are the insight(s) found from the chart?\n",
        "From the correct boxplot of lead times, you can gain several insights:\n",
        "\n",
        "Central Tendency: The central line in the box represents the median lead time for each category. This insight offers a quick and clear way to compare the typical lead time across different categories.\n",
        "\n",
        "Variability: The height of the box helps visualize the variability or spread of lead times within each category. It provides an understanding of the range and distribution of lead times, highlighting potential outliers or anomalies.\n",
        "\n",
        "Comparison across Categories: By observing the distribution of lead times in different categories, you can compare the lead time distributions and identify which categories consistently have longer or shorter lead times. This insight can guide decisions related to resource allocation, customer service, and operational efficiency.\n",
        "\n",
        "Using this visualization, businesses can make informed decisions about resource allocation, customer service improvement, and operational efficiency improvements to positively impact performance and customer satisfaction.\n",
        "\n",
        "\n",
        "\n"
      ],
      "metadata": {
        "id": "85gYPyotYoAp"
      }
    },
    {
      "cell_type": "markdown",
      "source": [
        "Answer Here"
      ],
      "metadata": {
        "id": "4jstXR6OYoAp"
      }
    },
    {
      "cell_type": "markdown",
      "source": [
        "##### 3. Will the gained insights help creating a positive business impact?\n",
        "Are there any insights that lead to negative growth? Justify with specific reason."
      ],
      "metadata": {
        "id": "RoGjAbkUYoAp"
      }
    },
    {
      "cell_type": "markdown",
      "source": [
        " while insights gained from the lead time distribution can help businesses enhance operational efficiency and improve customer experiences, negative impacts may arise from consistent delays, high variability, or an abundance of outliers. It's important for businesses to analyze these insights and take actions to address inconsistent performance, reduce lead time variability, and mitigate the occurrences of outliers to ensure positive growth and customer satisfaction."
      ],
      "metadata": {
        "id": "zfJ8IqMcYoAp"
      }
    },
    {
      "cell_type": "code",
      "source": [],
      "metadata": {
        "id": "XhBo2i5gMWoe"
      },
      "execution_count": null,
      "outputs": []
    },
    {
      "cell_type": "markdown",
      "source": [
        "#### Chart - 4 Bar Plot\n"
      ],
      "metadata": {
        "id": "4Of9eVA-YrdM"
      }
    },
    {
      "cell_type": "code",
      "source": [
        "iscancelled=hmdb_df[hmdb_df['is_canceled'] == 1].groupby('arrival_date_year').size().reset_index(name='count')"
      ],
      "metadata": {
        "id": "-7XK0noCMXUD"
      },
      "execution_count": null,
      "outputs": []
    },
    {
      "cell_type": "code",
      "source": [
        "#Bar plot\n",
        "x = list(iscancelled['arrival_date_year'])\n",
        "y = list(iscancelled['count'])\n",
        "sns.barplot(x= x, y=y),\n",
        "plt.title('Year wise cancelled booking')\n",
        "plt.xlabel('year')\n",
        "plt.ylabel('cancelled')\n",
        "plt.show"
      ],
      "metadata": {
        "id": "KIH-v3tnJn8p"
      },
      "execution_count": null,
      "outputs": []
    },
    {
      "cell_type": "code",
      "source": [],
      "metadata": {
        "id": "fQufHIbL-VeR"
      },
      "execution_count": null,
      "outputs": []
    },
    {
      "cell_type": "markdown",
      "source": [
        "##### 1. Why did you pick the specific chart?"
      ],
      "metadata": {
        "id": "iky9q4vBYrdO"
      }
    },
    {
      "cell_type": "markdown",
      "source": [
        " the specific choice of a bar plot for this context is well-suited due to its ability to succinctly compare categorical data across different years, providing a clear and visually appealing representation of the distribution of cancelled bookings."
      ],
      "metadata": {
        "id": "aJRCwT6DYrdO"
      }
    },
    {
      "cell_type": "markdown",
      "source": [
        "##### 2. What is/are the insight(s) found from the chart?"
      ],
      "metadata": {
        "id": "F6T5p64dYrdO"
      }
    },
    {
      "cell_type": "markdown",
      "source": [
        "Based on the provided bar plot depicting \"Year-wise cancelled booking,\" several insights can be gleaned from the chart:\n",
        "\n",
        "Trend Analysis: By observing the bar plot, one can identify the trend of cancelled bookings over the years. If there is a consistent increase or decrease in cancellations, it provides an understanding of booking behavior and potential shifts in customer preferences or market conditions over time.\n",
        "\n",
        "Seasonal Variations: Yearly variations can indicate seasonal trends in cancellations. For instance, if cancellations spike during certain years, it may correspond to economic factors, industry trends, or specific events that affect booking behavior.\n",
        "\n",
        "Operational Impact: Understanding the fluctuations in cancellations year over year can provide insights into potential operational improvements. Consistently high cancellations in certain years may necessitate a review of policies, customer service practices, or market positioning to mitigate negative impacts.\n",
        "\n"
      ],
      "metadata": {
        "id": "Xx8WAJvtYrdO"
      }
    },
    {
      "cell_type": "markdown",
      "source": [
        "##### 3. Will the gained insights help creating a positive business impact?\n",
        "Are there any insights that lead to negative growth? Justify with specific reason."
      ],
      "metadata": {
        "id": "y-Ehk30pYrdP"
      }
    },
    {
      "cell_type": "markdown",
      "source": [
        "while insights gained from the year-wise cancellation plot can help businesses make strategic decisions to enhance customer satisfaction and operational efficiency, negative impact may arise from consistent high cancellations, unfavorable trends, and potential repercussions on customer retention and market reputation. It’s crucial for businesses to analyze these insights and take actions to address underlying issues, enhance customer experience, and reduce cancellations to ensure positive growth and customer loyalty."
      ],
      "metadata": {
        "id": "jLNxxz7MYrdP"
      }
    },
    {
      "cell_type": "code",
      "source": [
        "hmdb_df.head()"
      ],
      "metadata": {
        "id": "5OXsS78F_Lj3"
      },
      "execution_count": null,
      "outputs": []
    },
    {
      "cell_type": "markdown",
      "source": [
        "\n",
        "\n",
        "#### Chart - 5 line plot"
      ],
      "metadata": {
        "id": "bamQiAODYuh1"
      }
    },
    {
      "cell_type": "code",
      "source": [
        "# Chart - 5 visualization code\n",
        "sns.lineplot(x='arrival_date_month', y='lead_time', data = hmdb_df)\n",
        "plt.title(\"lead_time Distribution\")\n",
        "plt.xlabel(\"Frequency\")\n",
        "plt.ylabel(\"lead-time\")\n",
        "plt.xticks(rotation=45)\n",
        "plt.tight_layout()\n",
        "plt.show()\n"
      ],
      "metadata": {
        "id": "TIJwrbroYuh3"
      },
      "execution_count": null,
      "outputs": []
    },
    {
      "cell_type": "markdown",
      "source": [
        "##### 1. Why did you pick the specific chart?"
      ],
      "metadata": {
        "id": "QHF8YVU7Yuh3"
      }
    },
    {
      "cell_type": "markdown",
      "source": [
        "this specific chart is selected to provide a clear and intuitive representation of lead time variations over time, which can be instrumental in understanding and managing the impact of lead times on business operations and customer experiences. Overall, the line plot is well-suited for presenting lead time patterns across months and aiding in strategic decision-making through visual trend analysis.\n",
        "\n",
        "\n"
      ],
      "metadata": {
        "id": "dcxuIMRPYuh3"
      }
    },
    {
      "cell_type": "markdown",
      "source": [
        "##### 2. What is/are the insight(s) found from the chart?"
      ],
      "metadata": {
        "id": "GwzvFGzlYuh3"
      }
    },
    {
      "cell_type": "markdown",
      "source": [
        "The line plot created using sns.lineplot visualizes the lead time variation over the months. Insights from this chart may include:\n",
        "\n",
        "Seasonal Trends: It helps in identifying seasonal patterns in lead times. For instance, if lead times are consistently higher during certain months, this insight can inform businesses to allocate resources accordingly, adjust staffing levels, and manage customer expectations more effectively.\n",
        "\n",
        "Operational Efficiency: A consistent downward trend in lead times over months could indicate improvements in operational efficiency. Conversely, a consistent upward trend may suggest operational bottlenecks that need to be addressed.\n",
        "\n",
        "Demand Fluctuations: Fluctuations in lead times can provide insights into demand fluctuations. If lead times increase during peak months, it can indicate the need for additional resources or operational adjustments to manage high demand periods."
      ],
      "metadata": {
        "id": "uyqkiB8YYuh3"
      }
    },
    {
      "cell_type": "markdown",
      "source": [
        "##### 3. Will the gained insights help creating a positive business impact?\n",
        "Are there any insights that lead to negative growth? Justify with specific reason."
      ],
      "metadata": {
        "id": "qYpmQ266Yuh3"
      }
    },
    {
      "cell_type": "markdown",
      "source": [
        "while insights gained from the lead time distribution across months can help businesses optimize resource allocation and improve operational planning, negative impacts may arise from unpredictable variations, consistent lengthy lead times, and inconsistent performance. Businesses need to use these insights to refine their operational strategies, ensure consistent service levels, and address inefficiencies to achieve positive growth and enhance customer satisfaction.\n",
        "\n",
        "\n"
      ],
      "metadata": {
        "id": "_WtzZ_hCYuh4"
      }
    },
    {
      "cell_type": "markdown",
      "source": [
        "#### Chart - 6 Bar plot\n"
      ],
      "metadata": {
        "id": "OH-pJp9IphqM"
      }
    },
    {
      "cell_type": "code",
      "source": [
        "# Chart - 6 visualization code\n",
        "\n",
        "\n",
        "plt.rcParams['figure.figsize'] = (12, 7)\n",
        "color = plt.cm.copper(np.linspace(0, 0.5, 20))\n",
        "((hmdb_df.groupby(['arrival_date_year'])['is_canceled'].mean())*100).sort_values(ascending = False).head(10).plot.bar(color = ['violet','indigo','b','g','y','orange','r'])\n",
        "plt.title(\" arrival_date_year with most is_canceled percentage\", fontsize = 20)\n",
        "plt.xlabel('arrival_date_year', fontsize = 15)\n",
        "plt.ylabel('percentage', fontsize = 15)\n",
        "plt.show()"
      ],
      "metadata": {
        "id": "kuRf4wtuphqN"
      },
      "execution_count": null,
      "outputs": []
    },
    {
      "cell_type": "markdown",
      "source": [
        "##### 1. Why did you pick the specific chart?"
      ],
      "metadata": {
        "id": "bbFf2-_FphqN"
      }
    },
    {
      "cell_type": "markdown",
      "source": [
        "the choice of a bar plot with specific features such as color variation, plot dimensions, and informative titles aligns well with the goal of representing the cancellation percentages across different arrival_date years clearly and effectively, making it suitable for comparing and analyzing cancellation trends over time."
      ],
      "metadata": {
        "id": "loh7H2nzphqN"
      }
    },
    {
      "cell_type": "markdown",
      "source": [
        "##### 2. What is/are the insight(s) found from the chart?"
      ],
      "metadata": {
        "id": "_ouA3fa0phqN"
      }
    },
    {
      "cell_type": "markdown",
      "source": [
        "The provided code generates a bar plot showing the percentage of cancellations based on arrival date year. Here are the insights found from the chart:\n",
        "\n",
        "Trend of Cancellations: The chart provides insight into the trend of cancellations across different years. It is evident that certain years have notably higher cancellation rates compared to others.\n",
        "\n",
        "Identification of Critical Years: By visualizing the cancellation percentages, the chart highlights specific years where the percentage of cancellations was notably high. This identification of critical years can prompt further investigation into the reasons behind these peaks in cancellations.\n",
        "\n",
        "Potential Impact on Revenue and Operations: High cancellation percentages in certain years may have had a significant impact on revenue and operational planning. Understanding these trends can help the business make informed decisions about capacity planning, staffing, and managing fluctuations in demand.\n",
        "\n",
        "Need for targeted improvements: The visualization underscores the need to focus on improving customer retention and satisfaction for the years with higher cancellation rates. The insights gained from this chart can guide the development of strategies aimed at reducing cancellations in subsequent years."
      ],
      "metadata": {
        "id": "VECbqPI7phqN"
      }
    },
    {
      "cell_type": "markdown",
      "source": [
        "##### 3. Will the gained insights help creating a positive business impact?\n",
        "Are there any insights that lead to negative growth? Justify with specific reason."
      ],
      "metadata": {
        "id": "Seke61FWphqN"
      }
    },
    {
      "cell_type": "markdown",
      "source": [
        " Insights gained from the analysis of cancellation percentages per arrival year can provide actionable data for business planning, revenue management, and customer satisfaction improvements. However, consistently high cancellation rates across specific years might signal deeper issues that could negatively impact customer satisfaction, market positioning, and financial performance. It's essential for businesses to leverage these insights to implement targeted strategies aimed at reducing cancellations, enhancing customer experience, and fostering sustainable growth."
      ],
      "metadata": {
        "id": "DW4_bGpfphqN"
      }
    },
    {
      "cell_type": "markdown",
      "source": [
        "#### Chart - 7 line plot\n"
      ],
      "metadata": {
        "id": "PIIx-8_IphqN"
      }
    },
    {
      "cell_type": "code",
      "source": [
        "# Template 1\n",
        "# Multiple columns Line Plot\n",
        "# Select columns for the line plot\n",
        "columns_to_plot = ['stays_in_weekend_nights', 'stays_in_week_nights']\n",
        "\n",
        "# Plot the data\n",
        "plt.figure(figsize=(12, 6))\n",
        "for column in columns_to_plot:\n",
        "    plt.plot(hmdb_df[column], label=column, linewidth=2)\n",
        "\n",
        "# Add labels and title\n",
        "plt.xlabel('Index', fontsize=12, fontweight='bold', color='gray')\n",
        "plt.ylabel('night', fontsize=12, fontweight='bold', color='gray')\n",
        "plt.title(' stay night', fontsize=16, fontweight='bold')\n",
        "\n",
        "# Add legend with improved styling\n",
        "plt.legend(fontsize=10, loc='upper left')\n",
        "\n",
        "# Add grid with customized style\n",
        "plt.grid(True, linestyle='--', linewidth=0.5, alpha=0.7)\n",
        "\n",
        "# Customize tick parameters\n",
        "plt.tick_params(axis='both', which='major', labelsize=10, colors='black')\n",
        "\n",
        "# Customize spine colors\n",
        "plt.gca().spines['top'].set_color('none')\n",
        "plt.gca().spines['right'].set_color('none')\n",
        "plt.gca().spines['bottom'].set_color('gray')\n",
        "plt.gca().spines['left'].set_color('gray')\n",
        "\n",
        "# Show plot\n",
        "plt.tight_layout()\n",
        "plt.show()\n"
      ],
      "metadata": {
        "id": "zshJwkwiT4gb"
      },
      "execution_count": null,
      "outputs": []
    },
    {
      "cell_type": "markdown",
      "source": [
        "##### 1. Why did you pick the specific chart?"
      ],
      "metadata": {
        "id": "t27r6nlMphqO"
      }
    },
    {
      "cell_type": "markdown",
      "source": [
        "The specific chart chosen appears to be a line plot that displays the trends for the 'stays_in_weekend_nights' and 'stays_in_week_nights' columns. The choice of this chart seems to align with the intent to visualize the variations in stays during weekend nights and weekdays.\n",
        "the line plot is a suitable choice for the given data as it allows for the comparison of trends, facilitates the observation of patterns, and assists in understanding the relationship between the variables related to stays during weekend nights and weekdays."
      ],
      "metadata": {
        "id": "iv6ro40sphqO"
      }
    },
    {
      "cell_type": "markdown",
      "source": [
        "##### 2. What is/are the insight(s) found from the chart?"
      ],
      "metadata": {
        "id": "r2jJGEOYphqO"
      }
    },
    {
      "cell_type": "markdown",
      "source": [
        "The  code generates a line plot comparing the columns 'stays_in_weekend_nights' and 'stays_in_week_nights' from the dataset. Here are potential insights that could be derived from this chart:\n",
        "\n",
        "Comparison of Stay Nights: The plot offers a clear visual comparison of the number of nights stayed during weekends versus weekdays. This insight can be valuable for understanding guests' booking patterns and how they differ between weekends and weekdays.\n",
        "\n",
        "Trend Analysis: By observing the trends in both types of stays, the business can understand whether there are any variations in the length of stays during different parts of the week. For instance, identifying longer weekend stays could inform pricing strategies, package deals, or staffing arrangements.\n",
        "\n",
        "Operational Planning: The plot can provide insights for operational planning, such as staffing levels, housekeeping scheduling, and resource allocation. Understanding stay patterns can help in optimizing staff schedules and service offerings.\n",
        "\n",
        "Customer Behavior: This comparison might reveal insights into the behavioral preferences of guests, such as whether they tend to stay longer on weekends or extend their stays into the weekdays.\n",
        "\n",
        "Demand Forecasting: Observing these trends can aid in forecasting demand for specific days of the week, supporting inventory management and revenue optimization strategies.\n",
        "\n",
        "Overall, the chart allows for a direct comparison of the duration of stays during weekends and weekdays, offering insights that can inform operational decisions, marketing strategies, and overall business planning based on the observed trends and patterns in guest stays."
      ],
      "metadata": {
        "id": "Po6ZPi4hphqO"
      }
    },
    {
      "cell_type": "markdown",
      "source": [
        "##### 3. Will the gained insights help creating a positive business impact?\n",
        "Are there any insights that lead to negative growth? Justify with specific reason."
      ],
      "metadata": {
        "id": "b0JNsNcRphqO"
      }
    },
    {
      "cell_type": "markdown",
      "source": [
        "The insights gained from analyzing stays across weekdays and weekends can contribute positively by optimizing resource allocation, influencing occupancy-driven marketing strategies, and refining pricing models. However, if these insights reveal underutilization, operational challenges, or deviation from industry practices, negative impacts might arise, prompting the need for strategic adjustments to mitigate potential drawbacks."
      ],
      "metadata": {
        "id": "xvSq8iUTphqO"
      }
    },
    {
      "cell_type": "code",
      "source": [],
      "metadata": {
        "id": "_AyHW_D5Jzca"
      },
      "execution_count": null,
      "outputs": []
    },
    {
      "cell_type": "markdown",
      "source": [
        "#### Chart - 8 Box plot"
      ],
      "metadata": {
        "id": "BZR9WyysphqO"
      }
    },
    {
      "cell_type": "code",
      "source": [
        "for col in hmdb_df.describe().columns:\n",
        "  fig=plt.figure(figsize=(9,6))\n",
        "  ax=fig.gca()\n",
        "  feature= (hmdb_df[col])\n",
        "  sns.histplot(hmdb_df[col],kde =True) # bin can be mentioned, if required\n",
        "  ax.axvline(feature.mean(),color='magenta', linestyle='dashed', linewidth=2)\n",
        "  ax.axvline(feature.median(),color='cyan', linestyle='dashed', linewidth=2)\n",
        "  ax.set_title(col)\n",
        "plt.show()\n",
        "\n",
        "# Visualizing code of box plot for each columns to know the data distibution\n",
        "for col in hmdb_df.describe().columns:\n",
        "    fig = plt.figure(figsize=(9, 6))\n",
        "    ax = fig.gca()\n",
        "    hmdb_df.boxplot( col, ax = ax)\n",
        "    ax.set_title('Label by ' + col)\n",
        "    ax.set_ylabel(\"arrival_date_year\")\n",
        "plt.show()\n"
      ],
      "metadata": {
        "id": "TdPTWpAVphqO"
      },
      "execution_count": null,
      "outputs": []
    },
    {
      "cell_type": "markdown",
      "source": [
        "##### 1. Why did you pick the specific chart?"
      ],
      "metadata": {
        "id": "jj7wYXLtphqO"
      }
    },
    {
      "cell_type": "markdown",
      "source": [
        "these specific charts were chosen because they provide complementary insights into the distribution, central tendency, and variability of the data across different columns. They are effective for identifying outliers, understanding skewness, and gaining an overall understanding of the data's statistical properties. This approach allows for a comprehensive visual exploration of the dataset's characteristics."
      ],
      "metadata": {
        "id": "Ob8u6rCTphqO"
      }
    },
    {
      "cell_type": "markdown",
      "source": [
        "##### 2. What is/are the insight(s) found from the chart?"
      ],
      "metadata": {
        "id": "eZrbJ2SmphqO"
      }
    },
    {
      "cell_type": "markdown",
      "source": [
        "The provided Python code generates visualizations using histograms and box plots for each column in the DataFrame. By analyzing the visualizations created by the mentioned code, one can gain insights related to the data distribution for each column:\n",
        "\n",
        "Insights from Histograms:\n",
        "\n",
        "Central Tendency: The dashed magenta line represents the mean, while the dashed cyan line represents the median. By observing the relative positions of these lines in each histogram, one can gain insight into the skewness and central tendency of each feature.\n",
        "\n",
        "Data Spread: The shape of the histograms and the density distribution (if kde is enabled) provide insights into the spread and variation of the data, helping to identify features with wide or narrow distributions.\n",
        "\n",
        "Data Outliers: Histograms can reveal the presence of outliers in the data distribution, particularly if there are long tails or unusually high bars at specific ranges.\n",
        "\n",
        "Insights from Box Plots:\n",
        "\n",
        "Outlier Detection: Each box plot can help in identifying potential outliers, particularly those that fall outside the whiskers of the plot.\n",
        "\n",
        "Variability: Comparing the lengths of the boxes and the positions of the medians can highlight differing variabilities and central tendencies across features."
      ],
      "metadata": {
        "id": "mZtgC_hjphqO"
      }
    },
    {
      "cell_type": "markdown",
      "source": [
        "##### 3. Will the gained insights help creating a positive business impact?\n",
        "Are there any insights that lead to negative growth? Justify with specific reason."
      ],
      "metadata": {
        "id": "rFu4xreNphqO"
      }
    },
    {
      "cell_type": "markdown",
      "source": [
        "These visualizations provide a comprehensive understanding of the data distributions, central tendencies, variability, and potential outliers. These insights are essential for making informed decisions in data analysis, identifying data preprocessing needs, and understanding relationships within the dataset."
      ],
      "metadata": {
        "id": "ey_0qi68phqO"
      }
    },
    {
      "cell_type": "markdown",
      "source": [
        "#### Chart - 9 Histogram\n"
      ],
      "metadata": {
        "id": "YJ55k-q6phqO"
      }
    },
    {
      "cell_type": "code",
      "source": [
        "# Chart - 9 visualization code\n",
        "# Histogram of prices\n",
        "plt.hist(hmdb_df['agent'], bins=20 )\n",
        "plt.xlabel('agent')\n",
        "plt.ylabel('hotal')\n",
        "plt.title('Distribution of agent')\n",
        "plt.show()\n"
      ],
      "metadata": {
        "id": "B2aS4O1ophqO"
      },
      "execution_count": null,
      "outputs": []
    },
    {
      "cell_type": "markdown",
      "source": [
        "##### 1. Why did you pick the specific chart?"
      ],
      "metadata": {
        "id": "gCFgpxoyphqP"
      }
    },
    {
      "cell_type": "markdown",
      "source": [
        "The code provided generates a histogram to visualize the distribution of the \"agent\" variable. However, there's an inconsistency in the provided labels (using \"hotal\" instead of \"Count\" or \"Frequency\"). Assuming it's the count of occurrences, here's an explanation.\n",
        "The histogram is a suitable choice for understanding the frequency distribution of the \"agent\" variable, providing a quick overview of the data's distribution characteristics and identifying potential patterns or outliers."
      ],
      "metadata": {
        "id": "TVxDimi2phqP"
      }
    },
    {
      "cell_type": "markdown",
      "source": [
        "##### 2. What is/are the insight(s) found from the chart?"
      ],
      "metadata": {
        "id": "OVtJsKN_phqQ"
      }
    },
    {
      "cell_type": "markdown",
      "source": [
        "The code provided creates a histogram of the \"agent\" data from the \"hmdb_df\" dataset.\n",
        "\n",
        "From the histogram of agent distribution, potential insights could include:\n",
        "\n",
        "Agent Contribution: Identification of which agents have the highest and lowest frequency of bookings or reservations. This insight can indicate which agents contribute significantly to the business and which ones may require further support or attention.\n",
        "\n",
        "Distribution Spread: Understanding the distribution spread of agent bookings can highlight potential outliers or concentrations. For example, if there is a wide variation in the frequency of bookings among different agents, it could signify diverse levels of performance or popularity among agents.\n",
        "\n",
        "Patterns or Trends: Identification of any discernible patterns or trends in agent bookings, such as seasonal variations or shifts over time. Recognizing these patterns may lead to tailored incentive programs or targeted marketing efforts for specific agents."
      ],
      "metadata": {
        "id": "ngGi97qjphqQ"
      }
    },
    {
      "cell_type": "markdown",
      "source": [
        "##### 3. Will the gained insights help creating a positive business impact?\n",
        "Are there any insights that lead to negative growth? Justify with specific reason."
      ],
      "metadata": {
        "id": "lssrdh5qphqQ"
      }
    },
    {
      "cell_type": "markdown",
      "source": [
        "Insights gained from the agent distribution can positively impact the business by recognizing top performers, identifying inefficiencies, and improving service quality. On the other hand, imbalanced workloads, lack of support or training, and overall inefficiency could lead to negative growth, affecting customer satisfaction and overall business performance. It's important to address any imbalances and inefficiencies to foster a positive impact on the business."
      ],
      "metadata": {
        "id": "tBpY5ekJphqQ"
      }
    },
    {
      "cell_type": "markdown",
      "source": [
        "#### Chart - 10 Scatterplot\n"
      ],
      "metadata": {
        "id": "U2RJ9gkRphqQ"
      }
    },
    {
      "cell_type": "code",
      "source": [
        "# Chart - 10 visualization code\n",
        "\n",
        "# Scatterplot of stays_in_week_nights vs. price colored by fuel-type:\n",
        "\n",
        "sns.scatterplot(x='stays_in_week_nights', y='agent', data=hmdb_df, hue=\"hotel\")"
      ],
      "metadata": {
        "id": "GM7a4YP4phqQ"
      },
      "execution_count": null,
      "outputs": []
    },
    {
      "cell_type": "markdown",
      "source": [
        "##### 1. Why did you pick the specific chart?"
      ],
      "metadata": {
        "id": "1M8mcRywphqQ"
      }
    },
    {
      "cell_type": "markdown",
      "source": [
        "The scatterplot chosen to visualize 'stays_in_week_nights' versus 'agent', colored by 'hotel', was selected based on the need to visualize the relationship and distribution of these variables simultaneously.The scatterplot was chosen to provide a comprehensive view of the relationship between 'stays_in_week_nights' and 'agent', while also considering the influence of 'hotel' type. This approach enables analysts to identify potential correlations and understand how different categories interact within the dataset in a single concise visualization."
      ],
      "metadata": {
        "id": "8agQvks0phqQ"
      }
    },
    {
      "cell_type": "markdown",
      "source": [
        "##### 2. What is/are the insight(s) found from the chart?"
      ],
      "metadata": {
        "id": "tgIPom80phqQ"
      }
    },
    {
      "cell_type": "markdown",
      "source": [
        "It seems I want to generate a scatterplot of stays_in_week_nights vs. agent with the points colored by the hotel field. Based on this scatterplot, here are potential insights that could be gleaned from the chart:\n",
        "\n",
        "Booking Preferences: The scatterplot could potentially reveal patterns in the duration of stays (stays_in_week_nights) and choice of booking agent (agent) across different hotel types. For instance, it may show a clustering of longer stays for certain hotels, indicating varying booking behaviors.\n",
        "\n",
        "Agency Distribution: It may uncover the distribution of different booking agencies across the stays in weeknights, shedding light on which agencies are involved in longer or shorter stays.\n",
        "\n",
        "Hotel Occupancy Trends: By color-coding the points by hotel, you can potentially observe whether there are differences in stays based on the type of hotel, offering insight into occupancy rates and customer preferences for different hotels."
      ],
      "metadata": {
        "id": "Qp13pnNzphqQ"
      }
    },
    {
      "cell_type": "markdown",
      "source": [
        "##### 3. Will the gained insights help creating a positive business impact?\n",
        "Are there any insights that lead to negative growth? Justify with specific reason."
      ],
      "metadata": {
        "id": "JMzcOPDDphqR"
      }
    },
    {
      "cell_type": "markdown",
      "source": [
        "Insights gained from the relationship between stays and prices colored by hotel can positively influence pricing strategies, demand forecasting, and overall revenue. However, negative impacts may arise from unfavorable price sensitivities, uncompetitive pricing strategies, and potential effects on customer retention. It is essential for businesses to leverage these insights to optimize pricing strategies, align pricing with demand patterns, and maintain competitiveness to ensure a positive impact on business growth and customer satisfaction."
      ],
      "metadata": {
        "id": "R4Ka1PC2phqR"
      }
    },
    {
      "cell_type": "markdown",
      "source": [
        "#### Chart - 11  pie chart\n",
        "\n"
      ],
      "metadata": {
        "id": "x-EpHcCOp1ci"
      }
    },
    {
      "cell_type": "code",
      "source": [
        "x = list(iscancelled['arrival_date_year'])\n",
        "y = list(iscancelled['count'])\n",
        "plt.pie(y,labels=x,autopct='%1.1f%%')\n",
        "plt.title('Year wise cancellation percentage')\n",
        "plt.show"
      ],
      "metadata": {
        "id": "X5R6OHQyHTOM"
      },
      "execution_count": null,
      "outputs": []
    },
    {
      "cell_type": "markdown",
      "source": [
        "##### 1. Why did you pick the specific chart?"
      ],
      "metadata": {
        "id": "X_VqEhTip1ck"
      }
    },
    {
      "cell_type": "markdown",
      "source": [
        "Pie charts emphasize proportions more effectively than some other chart types, making it easier to see the relative impact of cancellations across different years.\n",
        "\n",
        "In summary, the pie chart is chosen for its ability to clearly represent proportions and percentages, making it a suitable choice for visualizing the distribution of cancellation counts across different years, ensuring an easy-to-understand comparison within this specific context."
      ],
      "metadata": {
        "id": "-vsMzt_np1ck"
      }
    },
    {
      "cell_type": "markdown",
      "source": [
        "##### 2. What is/are the insight(s) found from the chart?"
      ],
      "metadata": {
        "id": "8zGJKyg5p1ck"
      }
    },
    {
      "cell_type": "markdown",
      "source": [
        "\n",
        "From the pie chart showcasing \"Year wise cancellation percentage,\" the following insights can be derived:\n",
        "\n",
        "Yearly Comparison: The chart provides a comparison of cancellations across different years, illustrating the percentage of cancellations for each year. This comparison can help in identifying trends or patterns of cancellations over time.\n",
        "\n",
        "Priority Areas: By analyzing cancellation percentages for each year, the business can identify which years experienced higher cancellation rates, hinting at areas that may need attention or improvement.\n",
        "\n",
        "Trend Identification: If there are noticeable variations in cancellation percentages across years, this could denote evolving customer behavior, changing market conditions, or operational factors that warrant deeper investigation."
      ],
      "metadata": {
        "id": "ZYdMsrqVp1ck"
      }
    },
    {
      "cell_type": "markdown",
      "source": [
        "##### 3. Will the gained insights help creating a positive business impact?\n",
        "Are there any insights that lead to negative growth? Justify with specific reason."
      ],
      "metadata": {
        "id": "PVzmfK_Ep1ck"
      }
    },
    {
      "cell_type": "markdown",
      "source": [
        " While insights gained from the year-wise cancellation percentage pie chart can guide businesses to make informed operational and strategic decisions, negative growth potential can arise from consistent increases in cancellations, seasonal variations impacting revenue, and overall customer dissatisfaction. It's crucial for businesses to proactively address these insights, aiming to reduce cancellations and improve overall customer satisfaction, resulting in positive growth and sustainable business success."
      ],
      "metadata": {
        "id": "druuKYZpp1ck"
      }
    },
    {
      "cell_type": "markdown",
      "source": [
        "#### Chart - 12 Bar plot"
      ],
      "metadata": {
        "id": "n3dbpmDWp1ck"
      }
    },
    {
      "cell_type": "code",
      "source": [
        "hmdb_df['required_car_parking_spaces'].unique()"
      ],
      "metadata": {
        "id": "-5x5S1JPebwY"
      },
      "execution_count": null,
      "outputs": []
    },
    {
      "cell_type": "code",
      "source": [
        "sns.barplot(x='customer_type', y='required_car_parking_spaces', data=hmdb_df, estimator = 'mean')\n",
        "\n",
        "# Set title and labels\n",
        "plt.title('Box Plot')\n",
        "plt.xlabel('customer_type')\n",
        "plt.ylabel('required_car_parking_spaces')\n",
        "plt.xticks(rotation = 90)\n",
        "\n",
        "# Show plot\n",
        "plt.show()"
      ],
      "metadata": {
        "id": "IGlFHe5gdEVI"
      },
      "execution_count": null,
      "outputs": []
    },
    {
      "cell_type": "markdown",
      "source": [
        "##### 1. Why did you pick the specific chart?"
      ],
      "metadata": {
        "id": "ylSl6qgtp1ck"
      }
    },
    {
      "cell_type": "markdown",
      "source": [
        " The bar plot was chosen for its ability to visually compare average parking space requirements between different customer types, making it a suitable choice for analyzing and presenting insights related to this specific comparison in the dataset."
      ],
      "metadata": {
        "id": "m2xqNkiQp1ck"
      }
    },
    {
      "cell_type": "markdown",
      "source": [
        "##### 2. What is/are the insight(s) found from the chart?"
      ],
      "metadata": {
        "id": "ZWILFDl5p1ck"
      }
    },
    {
      "cell_type": "markdown",
      "source": [
        "The bar plot created using sns.barplot visualizes the average required car parking spaces based on customer type. From this chart, several insights can be derived:\n",
        "\n",
        "Parking Space Utilization: The plot provides a clear comparison of the average parking space requirements between different customer types. It appears to show whether certain customer types typically require more parking spaces than others.\n",
        "\n",
        "Customer Segmentation Impact: The graph reveals potential differences in parking space needs based on customer type. Understanding these variations can influence parking facility planning, allocation of resources, and even marketing strategies tailored to different customer segments.\n",
        "\n",
        "Operational Insights: The visual comparison may uncover patterns indicating that certain customer types place a higher demand on parking facilities, potentially influencing operational decisions such as infrastructure investments, valet services, or priority parking access.\n",
        "\n",
        "Decision Making: The insights from this chart can guide decision-making processes related to parking resource allocation and utilization, leading to improved customer experiences and operational efficiencies."
      ],
      "metadata": {
        "id": "x-lUsV2mp1ck"
      }
    },
    {
      "cell_type": "markdown",
      "source": [
        "##### 3. Will the gained insights help creating a positive business impact?\n",
        "Are there any insights that lead to negative growth? Justify with specific reason."
      ],
      "metadata": {
        "id": "M7G43BXep1ck"
      }
    },
    {
      "cell_type": "markdown",
      "source": [
        "Insights from the average required car parking spaces for different customer types can help businesses tailor their services and resource allocation, potentially leading to positive business impacts. However, it's important to address potential challenges related to operational efficiency, resource utilization, and competitive positioning to ensure that these insights contribute positively to business growth and customer satisfaction."
      ],
      "metadata": {
        "id": "5wwDJXsLp1cl"
      }
    },
    {
      "cell_type": "markdown",
      "source": [
        "#### Chart -  13 Box Plot\n"
      ],
      "metadata": {
        "id": "Ag9LCva-p1cl"
      }
    },
    {
      "cell_type": "markdown",
      "source": [],
      "metadata": {
        "id": "h4Y5PKH9cn3W"
      }
    },
    {
      "cell_type": "code",
      "source": [
        "# Box Plot\n",
        "sns.boxplot(x='hotel', y='lead_time', data=hmdb_df)\n",
        "\n",
        "# Set title and labels\n",
        "plt.title('Box Plot')\n",
        "plt.xlabel('hotel')\n",
        "plt.ylabel('lead_time')\n",
        "\n",
        "# Show plot\n",
        "plt.show()"
      ],
      "metadata": {
        "id": "fAic27ERY8vq"
      },
      "execution_count": null,
      "outputs": []
    },
    {
      "cell_type": "markdown",
      "source": [
        "##### 1. Why did you pick the specific chart?"
      ],
      "metadata": {
        "id": "E6MkPsBcp1cl"
      }
    },
    {
      "cell_type": "markdown",
      "source": [
        "The specific chart chosen, the box plot, was likely selected due to its ability to showcase the distribution of lead times for each hotel category in the dataset. Here's why the box plot was likely chosen for this visualization.The box plot was most likely chosen to provide a comprehensive understanding of lead time distributions for different hotels, aiding in the comparative analysis of lead times and highlighting any variations or outliers that may be key to business decisions and operational improvements."
      ],
      "metadata": {
        "id": "V22bRsFWp1cl"
      }
    },
    {
      "cell_type": "markdown",
      "source": [
        "##### 2. What is/are the insight(s) found from the chart?"
      ],
      "metadata": {
        "id": "2cELzS2fp1cl"
      }
    },
    {
      "cell_type": "markdown",
      "source": [
        "The box plot comparing lead times for different hotels can yield a variety of insights that can impact business decisions:\n",
        "\n",
        "Lead Time Comparison: By comparing lead times between different hotels, businesses can gain insights into the time periods between booking and arrival for each hotel.\n",
        "\n",
        "Identification of Outliers: The box plot can help identify potential outliers in lead times for each hotel. Outliers may represent extraordinary lead time durations, which could be further investigated to understand exceptional cases that might be impacting customer experiences.\n",
        "\n",
        "Variability Assessment: The comparison between hotels can reveal differences in lead time variability. Understanding variability can influence capacity planning, staffing, and resource allocation strategies for different hotels.\n",
        "\n",
        "Customer Expectations: Insights from the lead time comparison can help shape customer expectations about booking lead times, which in turn can inform marketing strategies and service level agreements for each hotel.\n",
        "\n",
        "Operational Improvements: Variances in lead times might indicate areas for operational improvements, either in booking processes, customer service responsiveness, or demand forecasting, impacting the overall operational efficiency and customer satisfaction."
      ],
      "metadata": {
        "id": "ozQPc2_Ip1cl"
      }
    },
    {
      "cell_type": "markdown",
      "source": [
        "##### 3. Will the gained insights help creating a positive business impact?\n",
        "Are there any insights that lead to negative growth? Justify with specific reason."
      ],
      "metadata": {
        "id": "3MPXvC8up1cl"
      }
    },
    {
      "cell_type": "markdown",
      "source": [
        "In conclusion, the insights gained from the comparison of lead times between hotels can help identify operational best practices, enhance customer experiences, and improve overall operational effectiveness. However, negative business impacts may arise from inconsistent service levels, operational inefficiencies, and potential reputation damage associated with significant variations in lead times. It's essential for businesses to address discrepancies and strive for consistency in service delivery across all hotels to ensure positive growth and customer satisfaction."
      ],
      "metadata": {
        "id": "GL8l1tdLp1cl"
      }
    },
    {
      "cell_type": "markdown",
      "source": [
        "#### Chart - 14 - Correlation Heatmap"
      ],
      "metadata": {
        "id": "NC_X3p0fY2L0"
      }
    },
    {
      "cell_type": "code",
      "source": [
        "# Create a beautiful heatmap\n",
        "corr = hmdb_df[hmdb_df.describe().columns].corr()\n",
        "# Create a beautiful heatmap\n",
        "plt.figure(figsize=(10, 8))\n",
        "sns.set(font_scale=1.2)  # Increase font size for readability\n",
        "\n",
        "# Define custom color palette with more contrast\n",
        "cmap = sns.diverging_palette(220, 20, as_cmap=True)\n",
        "\n",
        "# Draw the heatmap with improved annotation and aesthetics\n",
        "sns.heatmap(corr, cmap=cmap, annot=False, fmt=\".2f\", annot_kws={\"size\": 12, \"weight\": \"bold\"},\n",
        "            linewidths=0.5, cbar_kws={\"shrink\": 0.8, \"label\": \"Correlation Coefficient\"},\n",
        "            square=True, linecolor='white', vmin=-1, vmax=1)\n",
        "\n",
        "# Add title\n",
        "plt.title('Correlation Heatmap', fontsize=18)\n",
        "\n",
        "# Rotate y-axis labels for better readability\n",
        "plt.yticks(rotation=0)\n",
        "\n",
        "# Show plot\n",
        "plt.tight_layout()  # Adjust layout to prevent clipping of labels\n",
        "plt.show()"
      ],
      "metadata": {
        "id": "At-YcTP5QdzO"
      },
      "execution_count": null,
      "outputs": []
    },
    {
      "cell_type": "markdown",
      "source": [
        "##### 1. Why did you pick the specific chart?\n"
      ],
      "metadata": {
        "id": "wzFCViPQBqRc"
      }
    },
    {
      "cell_type": "markdown",
      "source": [
        "The heatmap was chosen for its ability to effectively showcase correlation patterns, its aesthetic appeal, the clarity of the custom color palette, annotation, and the overall readability provided, making it an excellent choice for visualizing the given correlation matrix."
      ],
      "metadata": {
        "id": "R4Wp9pb2BqAL"
      }
    },
    {
      "cell_type": "markdown",
      "source": [
        "##### 2. What is/are the insight(s) found from the chart?"
      ],
      "metadata": {
        "id": "qo-UBT-tBkcb"
      }
    },
    {
      "cell_type": "markdown",
      "source": [
        "The provided code generates a visually appealing heatmap to visualize the correlation among the numerical variables in the dataset. Insights from this chart and its impact on the business include the following:\n",
        "\n",
        "Identifying Strong Relationships: The heatmap can reveal strong positive or negative correlations between variables. Identifying strong positive correlations can highlight potential opportunities for bundling products or services, cross-selling, or even identifying common factors that contribute to successful outcomes in the business.\n",
        "\n",
        "Detecting Redundant Information: If variables exhibit high correlations, it may indicate redundant or overlapping information being captured. Identifying such instances can guide businesses to streamline data collection and analysis, leading to enhanced operational efficiency.\n",
        "\n",
        "Understanding Dependencies: Correlation insights can help businesses understand how changes in one variable may impact others. This, in turn, aids in making informed decisions, formulating effective business strategies, and anticipating potential cause-and-effect relationships between different business parameters.\n",
        "\n",
        "Potential Areas for Improvement: Discovering negative correlations might indicate areas where improvements in one variable could positively impact another. For instance, a negative correlation between customer wait time and customer satisfaction may prompt actions for reducing wait times to enhance overall customer experience."
      ],
      "metadata": {
        "id": "m8khFnN6CJz8"
      }
    },
    {
      "cell_type": "markdown",
      "source": [
        "##### 3. Will the gained insights help creating a positive business impact?\n",
        "Are there any insights that lead to negative growth? Justify with specific reason."
      ],
      "metadata": {
        "id": "qEB4UgAeCLcF"
      }
    },
    {
      "cell_type": "markdown",
      "source": [
        "The insights gained from the correlation heatmap can lead to positive business impacts by providing clearer insights into interrelationships among variables and areas for potential improvement. Conversely, identifying negative correlations or dependencies on single factors can help identify areas of risk and potential negative growth, prompting businesses to address these vulnerabilities to ensure long-term resilience and success."
      ],
      "metadata": {
        "id": "Rf5rcAvLBWQ9"
      }
    },
    {
      "cell_type": "markdown",
      "source": [
        "#### Chart - 15 - Pair Plot\n",
        "\n"
      ],
      "metadata": {
        "id": "afhw-4g9QhRt"
      }
    },
    {
      "cell_type": "code",
      "source": [
        "hmdb_df.head(2)"
      ],
      "metadata": {
        "id": "8TnFxMHpi0gu"
      },
      "execution_count": null,
      "outputs": []
    },
    {
      "cell_type": "markdown",
      "source": [
        "## **5. Solution to Business Objective**"
      ],
      "metadata": {
        "id": "JcMwzZxoAimU"
      }
    },
    {
      "cell_type": "markdown",
      "source": [
        "#### What do you suggest the client to achieve Business Objective ?\n",
        "Explain Briefly."
      ],
      "metadata": {
        "id": "8G2x9gOozGDZ"
      }
    },
    {
      "cell_type": "markdown",
      "source": [
        "To provide effective recommendations on achieving a business objective, it's crucial to understand the specific objective and context. However, without knowing the precise objective, I can offer some general strategies that many businesses find useful in achieving their goals:\n",
        "\n",
        "Define Clear Goals and Key Performance Indicators (KPIs): Clearly define what the business objective is and establish measurable KPIs to track progress. This ensures everyone in the organization is aligned and working towards the same goal.\n",
        "\n",
        "Data Analysis and Insights: Utilize data analytics to gain insights into customer behavior, market trends, and operational efficiency. By understanding the data, businesses can make informed decisions and identify areas for improvement.\n",
        "\n",
        "Customer-Centric Approach: Focus on understanding the needs and preferences of your target customers. Tailor products, services, and marketing strategies to meet their needs and enhance customer satisfaction.\n",
        "\n",
        "Innovation and Adaptability: Embrace innovation and be willing to adapt to changing market conditions. Stay ahead of the competition by continuously improving products/services and exploring new opportunities.\n",
        "\n",
        "Effective Marketing and Branding: Develop a strong brand identity and use targeted marketing strategies to reach your audience. Invest in channels that provide the highest return on investment (ROI) and continuously refine your marketing approach based on analytics and feedback.\n",
        "\n",
        "Employee Engagement and Development: Ensure employees are engaged, motivated, and equipped with the necessary skills to contribute to the business objectives. Invest in training and development programs to enhance employee performance and job satisfaction.\n",
        "\n",
        "Partnerships and Collaborations: Explore opportunities for strategic partnerships and collaborations that can help expand your reach, access new markets, or enhance your product/service offerings.\n",
        "\n",
        "Financial Management: Maintain a sound financial management strategy to ensure the efficient use of resources and sustainable growth. Monitor key financial metrics closely and adjust strategies as needed to optimize profitability and cash flow.\n",
        "\n",
        "Customer Experience Excellence: Provide exceptional customer service and prioritize delivering a positive customer experience at every touchpoint. Happy customers are more likely to become repeat customers and advocates for your brand.\n",
        "\n",
        "Continuous Improvement: Foster a culture of continuous improvement within the organization. Encourage feedback from employees, customers, and stakeholders, and use it to drive innovation and refine strategies over time.\n",
        "\n",
        "By implementing a combination of these strategies tailored to the specific business objective, organizations can increase their chances of success and achieve sustainable growth."
      ],
      "metadata": {
        "id": "pASKb0qOza21"
      }
    },
    {
      "cell_type": "markdown",
      "source": [
        "# **Conclusion**"
      ],
      "metadata": {
        "id": "gCX9965dhzqZ"
      }
    },
    {
      "cell_type": "markdown",
      "source": [
        " You learned about the importance of exploratory data analysis (EDA) and its role in data analysis.\n",
        "\n",
        "📊 You learned how to explore and analyze a real-world dataset using Python programming language and its data analysis libraries such as Pandas, NumPy, and Matplotlib.\n",
        "\n",
        "🧹 You learned various EDA techniques including data cleaning, data preprocessing, feature engineering, data visualization, and statistical analysis.\n",
        "\n",
        "💡 You learned how to interpret and communicate insights and inferences derived from the data analysis, and use them to draw meaningful conclusions.\n",
        "\n",
        "🤔 Through this lesson, you developed critical thinking and problem-solving skills required for data analysis in various domains such as business, finance, healthcare, and social sciences.\n",
        "\n",
        "👨‍💻 You also had a hands-on experience with the EDA process and gained confidence in working with real-world datasets."
      ],
      "metadata": {
        "id": "Fjb1IsQkh3yE"
      }
    },
    {
      "cell_type": "markdown",
      "source": [
        "### ***Hurrah! You have successfully completed your EDA Capstone Project !!!***"
      ],
      "metadata": {
        "id": "gIfDvo9L0UH2"
      }
    }
  ]
}